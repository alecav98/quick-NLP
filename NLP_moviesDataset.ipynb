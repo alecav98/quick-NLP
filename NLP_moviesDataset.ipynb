{
  "nbformat": 4,
  "nbformat_minor": 0,
  "metadata": {
    "colab": {
      "name": "NLP_moviesDataset.ipynb",
      "provenance": [],
      "collapsed_sections": [],
      "toc_visible": true,
      "authorship_tag": "ABX9TyPoo/S5iw3kz9D70hONGSd2",
      "include_colab_link": true
    },
    "kernelspec": {
      "name": "python3",
      "display_name": "Python 3"
    },
    "accelerator": "GPU"
  },
  "cells": [
    {
      "cell_type": "markdown",
      "metadata": {
        "id": "view-in-github",
        "colab_type": "text"
      },
      "source": [
        "<a href=\"https://colab.research.google.com/github/alecav98/quick-NLP/blob/main/NLP_moviesDataset.ipynb\" target=\"_parent\"><img src=\"https://colab.research.google.com/assets/colab-badge.svg\" alt=\"Open In Colab\"/></a>"
      ]
    },
    {
      "cell_type": "markdown",
      "metadata": {
        "id": "J6aIMw4eAoSm"
      },
      "source": [
        "# NLP for Sentiment Analysis"
      ]
    },
    {
      "cell_type": "markdown",
      "metadata": {
        "id": "PJYo7GDUAupc"
      },
      "source": [
        "In this colab we'll use the Large Movie Review Dataset to perform sentiment analysis using various models and compare the results. First, we'll import the necessary tools."
      ]
    },
    {
      "cell_type": "code",
      "metadata": {
        "id": "OtWGXDjW_p8J"
      },
      "source": [
        "import tensorflow as tf\n",
        "import pandas as pd\n",
        "import numpy as np\n",
        "import matplotlib.pyplot as plt\n",
        "\n",
        "import tensorflow_datasets as tfds"
      ],
      "execution_count": null,
      "outputs": []
    },
    {
      "cell_type": "markdown",
      "metadata": {
        "id": "OJKVPEA-AQlb"
      },
      "source": [
        "Now, we load the dataset from TensorFlow Datasets. The dataset can also be downloaded [here](http://ai.stanford.edu/~amaas/data/sentiment/)."
      ]
    },
    {
      "cell_type": "code",
      "metadata": {
        "id": "Wpl5idoIObzh",
        "colab": {
          "base_uri": "https://localhost:8080/",
          "height": 119
        },
        "outputId": "4ee4e805-027e-470f-96aa-3387b366a736"
      },
      "source": [
        "# Get the training dataset\n",
        "train_ds, info = tfds.load('imdb_reviews', split='train', with_info=True)\n",
        "\n",
        "print(info.features)\n",
        "print(info.features[\"label\"].num_classes)\n",
        "print(info.features[\"label\"].names)"
      ],
      "execution_count": null,
      "outputs": [
        {
          "output_type": "stream",
          "text": [
            "FeaturesDict({\n",
            "    'label': ClassLabel(shape=(), dtype=tf.int64, num_classes=2),\n",
            "    'text': Text(shape=(), dtype=tf.string),\n",
            "})\n",
            "2\n",
            "['neg', 'pos']\n"
          ],
          "name": "stdout"
        }
      ]
    },
    {
      "cell_type": "code",
      "metadata": {
        "id": "ohC95uTEPYMt",
        "colab": {
          "base_uri": "https://localhost:8080/",
          "height": 292
        },
        "outputId": "e6355ed5-7341-4043-803f-bcf039da210d"
      },
      "source": [
        "# Print some of the entries\n",
        "for example in train_ds.take(5):  \n",
        "  review, label = example[\"text\"], example[\"label\"]\n",
        "  print(\"Review:\", review.numpy().decode('utf-8'))\n",
        "  print(\"Label: %d \\n\" % label.numpy())"
      ],
      "execution_count": null,
      "outputs": [
        {
          "output_type": "stream",
          "text": [
            "Review: This was an absolutely terrible movie. Don't be lured in by Christopher Walken or Michael Ironside. Both are great actors, but this must simply be their worst role in history. Even their great acting could not redeem this movie's ridiculous storyline. This movie is an early nineties US propaganda piece. The most pathetic scenes were those when the Columbian rebels were making their cases for revolutions. Maria Conchita Alonso appeared phony, and her pseudo-love affair with Walken was nothing but a pathetic emotional plug in a movie that was devoid of any real meaning. I am disappointed that there are movies like this, ruining actor's like Christopher Walken's good name. I could barely sit through it.\n",
            "Label: 0 \n",
            "\n",
            "Review: I have been known to fall asleep during films, but this is usually due to a combination of things including, really tired, being warm and comfortable on the sette and having just eaten a lot. However on this occasion I fell asleep because the film was rubbish. The plot development was constant. Constantly slow and boring. Things seemed to happen, but with no explanation of what was causing them or why. I admit, I may have missed part of the film, but i watched the majority of it and everything just seemed to happen of its own accord without any real concern for anything else. I cant recommend this film at all.\n",
            "Label: 0 \n",
            "\n",
            "Review: Mann photographs the Alberta Rocky Mountains in a superb fashion, and Jimmy Stewart and Walter Brennan give enjoyable performances as they always seem to do. <br /><br />But come on Hollywood - a Mountie telling the people of Dawson City, Yukon to elect themselves a marshal (yes a marshal!) and to enforce the law themselves, then gunfighters battling it out on the streets for control of the town? <br /><br />Nothing even remotely resembling that happened on the Canadian side of the border during the Klondike gold rush. Mr. Mann and company appear to have mistaken Dawson City for Deadwood, the Canadian North for the American Wild West.<br /><br />Canadian viewers be prepared for a Reefer Madness type of enjoyable howl with this ludicrous plot, or, to shake your head in disgust.\n",
            "Label: 0 \n",
            "\n",
            "Review: This is the kind of film for a snowy Sunday afternoon when the rest of the world can go ahead with its own business as you descend into a big arm-chair and mellow for a couple of hours. Wonderful performances from Cher and Nicolas Cage (as always) gently row the plot along. There are no rapids to cross, no dangerous waters, just a warm and witty paddle through New York life at its best. A family film in every sense and one that deserves the praise it received.\n",
            "Label: 1 \n",
            "\n",
            "Review: As others have mentioned, all the women that go nude in this film are mostly absolutely gorgeous. The plot very ably shows the hypocrisy of the female libido. When men are around they want to be pursued, but when no \"men\" are around, they become the pursuers of a 14 year old boy. And the boy becomes a man really fast (we should all be so lucky at this age!). He then gets up the courage to pursue his true love.\n",
            "Label: 1 \n",
            "\n"
          ],
          "name": "stdout"
        }
      ]
    },
    {
      "cell_type": "markdown",
      "metadata": {
        "id": "uEgAPi9zRGeW"
      },
      "source": [
        "We assume the training and test sets are already shuffled, so we will go ahead and get the text and labels for both the training and test sets."
      ]
    },
    {
      "cell_type": "code",
      "metadata": {
        "id": "bBPUCjCbNk1s",
        "colab": {
          "base_uri": "https://localhost:8080/",
          "height": 173
        },
        "outputId": "6b8dc5e7-5410-4522-fb07-a26ad6b0dfc8"
      },
      "source": [
        "train_texts = []\n",
        "train_labels = []\n",
        "\n",
        "# Train dataset has 25,000 samples so we are taking all of them\n",
        "for item in train_ds.take(-1):\n",
        "  review, label = item[\"text\"], item[\"label\"]\n",
        "  train_texts.append(review.numpy().decode('utf-8')) # need .decode() bc tensorflow stores it as byte object\n",
        "  train_labels.append(label.numpy())\n",
        "\n",
        "# Print some training reviews and labels to make sure everything worked\n",
        "for i in range(2):\n",
        "  print(\"Review: \", train_texts[i])\n",
        "  print(\"Label: \", train_labels[i])\n",
        "  print('\\n')"
      ],
      "execution_count": null,
      "outputs": [
        {
          "output_type": "stream",
          "text": [
            "Review:  This was an absolutely terrible movie. Don't be lured in by Christopher Walken or Michael Ironside. Both are great actors, but this must simply be their worst role in history. Even their great acting could not redeem this movie's ridiculous storyline. This movie is an early nineties US propaganda piece. The most pathetic scenes were those when the Columbian rebels were making their cases for revolutions. Maria Conchita Alonso appeared phony, and her pseudo-love affair with Walken was nothing but a pathetic emotional plug in a movie that was devoid of any real meaning. I am disappointed that there are movies like this, ruining actor's like Christopher Walken's good name. I could barely sit through it.\n",
            "Label:  0\n",
            "\n",
            "\n",
            "Review:  I have been known to fall asleep during films, but this is usually due to a combination of things including, really tired, being warm and comfortable on the sette and having just eaten a lot. However on this occasion I fell asleep because the film was rubbish. The plot development was constant. Constantly slow and boring. Things seemed to happen, but with no explanation of what was causing them or why. I admit, I may have missed part of the film, but i watched the majority of it and everything just seemed to happen of its own accord without any real concern for anything else. I cant recommend this film at all.\n",
            "Label:  0\n",
            "\n",
            "\n"
          ],
          "name": "stdout"
        }
      ]
    },
    {
      "cell_type": "code",
      "metadata": {
        "id": "cqquVtYvFSGe",
        "colab": {
          "base_uri": "https://localhost:8080/",
          "height": 34
        },
        "outputId": "27e89f0d-6df5-4cf0-9b8b-143b2662c8e1"
      },
      "source": [
        "# Print length of training set to make sure, it should be 25,000\n",
        "print(\"Length of training ds: \", len(train_texts))"
      ],
      "execution_count": null,
      "outputs": [
        {
          "output_type": "stream",
          "text": [
            "Length of training ds:  25000\n"
          ],
          "name": "stdout"
        }
      ]
    },
    {
      "cell_type": "code",
      "metadata": {
        "id": "GdzFi65qRXSo",
        "colab": {
          "base_uri": "https://localhost:8080/",
          "height": 173
        },
        "outputId": "d3e7dcb3-fbe2-4f2c-8f7c-d293ceb2276f"
      },
      "source": [
        "# Get test dataset\n",
        "test_ds = tfds.load('imdb_reviews', split='test')\n",
        "\n",
        "test_texts = []\n",
        "test_labels = []\n",
        "\n",
        "# Test dataset has 25,000 samples so we'll take all of them\n",
        "for item in test_ds.take(-1):\n",
        "  review, label = item[\"text\"], item[\"label\"]\n",
        "  test_texts.append(review.numpy().decode('utf-8'))\n",
        "  test_labels.append(label.numpy())\n",
        "\n",
        "# Print some test reviews and labels to make sure everything worked\n",
        "for i in range(2):\n",
        "  print(\"Review: \", test_texts[i])\n",
        "  print(\"Label: \", test_labels[i])\n",
        "  print('\\n')"
      ],
      "execution_count": null,
      "outputs": [
        {
          "output_type": "stream",
          "text": [
            "Review:  There are films that make careers. For George Romero, it was NIGHT OF THE LIVING DEAD; for Kevin Smith, CLERKS; for Robert Rodriguez, EL MARIACHI. Add to that list Onur Tukel's absolutely amazing DING-A-LING-LESS. Flawless film-making, and as assured and as professional as any of the aforementioned movies. I haven't laughed this hard since I saw THE FULL MONTY. (And, even then, I don't think I laughed quite this hard... So to speak.) Tukel's talent is considerable: DING-A-LING-LESS is so chock full of double entendres that one would have to sit down with a copy of this script and do a line-by-line examination of it to fully appreciate the, uh, breadth and width of it. Every shot is beautifully composed (a clear sign of a sure-handed director), and the performances all around are solid (there's none of the over-the-top scenery chewing one might've expected from a film like this). DING-A-LING-LESS is a film whose time has come.\n",
            "Label:  1\n",
            "\n",
            "\n",
            "Review:  A blackly comic tale of a down-trodden priest, Nazarin showcases the economy that Luis Bunuel was able to achieve in being able to tell a deeply humanist fable with a minimum of fuss. As an output from his Mexican era of film making, it was an invaluable talent to possess, with little money and extremely tight schedules. Nazarin, however, surpasses many of Bunuel's previous Mexican films in terms of the acting (Francisco Rabal is excellent), narrative and theme.<br /><br />The theme, interestingly, is something that was explored again in Viridiana, made three years later in Spain. It concerns the individual's struggle for humanity and altruism amongst a society that rejects any notion of virtue. Father Nazarin, however, is portrayed more sympathetically than Sister Viridiana. Whereas the latter seems to choose charity because she wishes to atone for her (perceived) sins, Nazarin's whole existence and reason for being seems to be to help others, whether they (or we) like it or not. The film's last scenes, in which he casts doubt on his behaviour and, in a split second, has to choose between the life he has been leading or the conventional life that is expected of a priest, are so emotional because they concern his moral integrity and we are never quite sure whether it remains intact or not.<br /><br />This is a remarkable film and I would urge anyone interested in classic cinema to seek it out. It is one of Bunuel's most moving films, and encapsulates many of his obsessions: frustrated desire, mad love, religious hypocrisy etc. In my view 'Nazarin' is second only to 'The Exterminating Angel', in terms of his Mexican movies, and is certainly near the top of the list of Bunuel's total filmic output.\n",
            "Label:  1\n",
            "\n",
            "\n"
          ],
          "name": "stdout"
        }
      ]
    },
    {
      "cell_type": "code",
      "metadata": {
        "id": "gVKmQUDlFcEA",
        "colab": {
          "base_uri": "https://localhost:8080/",
          "height": 34
        },
        "outputId": "e6ef1595-fc33-416c-ee22-8adcd541e02f"
      },
      "source": [
        "# Again, make sure its 25,000\n",
        "print(\"Length of test ds: \", len(test_texts))"
      ],
      "execution_count": null,
      "outputs": [
        {
          "output_type": "stream",
          "text": [
            "Length of test ds:  25000\n"
          ],
          "name": "stdout"
        }
      ]
    },
    {
      "cell_type": "markdown",
      "metadata": {
        "id": "Ar3yT8C6Ihfn"
      },
      "source": [
        "# Create subwords\n",
        "Now that we have our training and test data in an easily digestible format, we'll create subwords out of the training reviews."
      ]
    },
    {
      "cell_type": "code",
      "metadata": {
        "id": "9tr-RQcIJMfd"
      },
      "source": [
        "# CAN TUNE THESE LATER IF NECESSARY\n",
        "vocab_size = 4000\n",
        "subword_length = 5\n",
        "\n",
        "# Build subwords from our training reviews\n",
        "tokenizer = tfds.features.text.SubwordTextEncoder.build_from_corpus(train_texts, vocab_size,\n",
        "                                                                    max_subword_length=subword_length)\n",
        "\n",
        "# We can look at the word index if we want\n",
        "##word_index = tokenizer.word_index"
      ],
      "execution_count": null,
      "outputs": []
    },
    {
      "cell_type": "code",
      "metadata": {
        "id": "Y7U4_qibJMbz",
        "colab": {
          "base_uri": "https://localhost:8080/",
          "height": 71
        },
        "outputId": "e96d5a13-efee-4fba-d822-f441108797d8"
      },
      "source": [
        "# Check that the tokenizer works appropriately\n",
        "num = 1\n",
        "print(train_texts[num])\n",
        "encoded = tokenizer.encode(train_texts[num])\n",
        "print(encoded)"
      ],
      "execution_count": null,
      "outputs": [
        {
          "output_type": "stream",
          "text": [
            "I have been known to fall asleep during films, but this is usually due to a combination of things including, really tired, being warm and comfortable on the sette and having just eaten a lot. However on this occasion I fell asleep because the film was rubbish. The plot development was constant. Constantly slow and boring. Things seemed to happen, but with no explanation of what was causing them or why. I admit, I may have missed part of the film, but i watched the majority of it and everything just seemed to happen of its own accord without any real concern for anything else. I cant recommend this film at all.\n",
            "[12, 40, 116, 1103, 3772, 8, 2318, 385, 231, 782, 3772, 750, 35, 153, 2, 31, 18, 9, 637, 44, 2009, 8, 4, 2981, 813, 38, 7, 103, 5, 684, 1560, 3843, 2, 90, 16, 3286, 3840, 2, 166, 3772, 3345, 3772, 6, 824, 1312, 209, 26, 1, 1691, 251, 6, 630, 35, 66, 1821, 145, 4, 494, 3856, 3, 732, 55, 26, 18, 2996, 418, 12, 2119, 3772, 385, 231, 782, 3772, 121, 75, 1, 41, 23, 3643, 580, 490, 3, 24, 237, 930, 2626, 13, 23, 1433, 931, 3, 1045, 2197, 643, 2471, 6, 847, 3843, 3, 3524, 1206, 1160, 17, 8, 336, 3850, 2, 31, 27, 104, 1162, 813, 38, 7, 85, 23, 865, 1763, 3772, 218, 54, 2523, 3861, 3, 12, 2115, 2, 12, 411, 40, 2574, 17, 409, 7, 1, 74, 2, 31, 163, 73, 33, 1, 1493, 920, 7, 19, 6, 132, 103, 3772, 66, 1160, 17, 8, 336, 38, 7, 141, 450, 3304, 653, 428, 342, 147, 301, 742, 2935, 29, 465, 28, 1892, 3, 12, 199, 13, 631, 974, 18, 41, 50, 242, 3786]\n"
          ],
          "name": "stdout"
        }
      ]
    },
    {
      "cell_type": "code",
      "metadata": {
        "id": "i0WEdMz6JMZH",
        "colab": {
          "base_uri": "https://localhost:8080/",
          "height": 1000
        },
        "outputId": "3761ced0-199c-4042-eb48-56c36b0ca6bc"
      },
      "source": [
        "# Separately print out each subword, decoded\n",
        "for i in encoded:\n",
        "  print(tokenizer.decode([i]))"
      ],
      "execution_count": null,
      "outputs": [
        {
          "output_type": "stream",
          "text": [
            "I \n",
            "have \n",
            "been \n",
            "known\n",
            " \n",
            "to \n",
            "fall \n",
            "as\n",
            "le\n",
            "ep\n",
            " \n",
            "durin\n",
            "g \n",
            "films\n",
            ", \n",
            "but \n",
            "this \n",
            "is \n",
            "usual\n",
            "ly \n",
            "due \n",
            "to \n",
            "a \n",
            "combi\n",
            "natio\n",
            "n \n",
            "of \n",
            "thing\n",
            "s \n",
            "inclu\n",
            "din\n",
            "g\n",
            ", \n",
            "reall\n",
            "y \n",
            "tire\n",
            "d\n",
            ", \n",
            "being\n",
            " \n",
            "warm\n",
            " \n",
            "and \n",
            "com\n",
            "fort\n",
            "able \n",
            "on \n",
            "the \n",
            "set\n",
            "te \n",
            "and \n",
            "havin\n",
            "g \n",
            "just \n",
            "eat\n",
            "en \n",
            "a \n",
            "lo\n",
            "t\n",
            ". \n",
            "Howev\n",
            "er \n",
            "on \n",
            "this \n",
            "occas\n",
            "ion \n",
            "I \n",
            "fell\n",
            " \n",
            "as\n",
            "le\n",
            "ep\n",
            " \n",
            "becau\n",
            "se \n",
            "the \n",
            "film \n",
            "was \n",
            "rub\n",
            "bi\n",
            "sh\n",
            ". \n",
            "The \n",
            "plot \n",
            "devel\n",
            "opmen\n",
            "t \n",
            "was \n",
            "const\n",
            "ant\n",
            ". \n",
            "Con\n",
            "stan\n",
            "tly \n",
            "slow \n",
            "and \n",
            "borin\n",
            "g\n",
            ". \n",
            "Thin\n",
            "gs \n",
            "seeme\n",
            "d \n",
            "to \n",
            "happe\n",
            "n\n",
            ", \n",
            "but \n",
            "with \n",
            "no \n",
            "expla\n",
            "natio\n",
            "n \n",
            "of \n",
            "what \n",
            "was \n",
            "ca\n",
            "using\n",
            " \n",
            "them \n",
            "or \n",
            "wh\n",
            "y\n",
            ". \n",
            "I \n",
            "admit\n",
            ", \n",
            "I \n",
            "may \n",
            "have \n",
            "misse\n",
            "d \n",
            "part \n",
            "of \n",
            "the \n",
            "film\n",
            ", \n",
            "but \n",
            "i \n",
            "watch\n",
            "ed \n",
            "the \n",
            "major\n",
            "ity \n",
            "of \n",
            "it \n",
            "and \n",
            "every\n",
            "thing\n",
            " \n",
            "just \n",
            "seeme\n",
            "d \n",
            "to \n",
            "happe\n",
            "n \n",
            "of \n",
            "its \n",
            "own \n",
            "acco\n",
            "rd \n",
            "witho\n",
            "ut \n",
            "any \n",
            "real \n",
            "conce\n",
            "rn \n",
            "for \n",
            "anyth\n",
            "ing \n",
            "else\n",
            ". \n",
            "I \n",
            "can\n",
            "t \n",
            "recom\n",
            "mend \n",
            "this \n",
            "film \n",
            "at \n",
            "all\n",
            ".\n"
          ],
          "name": "stdout"
        }
      ]
    },
    {
      "cell_type": "markdown",
      "metadata": {
        "id": "boDb2K1aMISu"
      },
      "source": [
        "Now since we have our subword tokenizer now, we need to change all the words in our training and test reviews to subwords. That is, we need to encode the reviews using subwords."
      ]
    },
    {
      "cell_type": "code",
      "metadata": {
        "id": "DI5i1Z_rMJ-E",
        "colab": {
          "base_uri": "https://localhost:8080/",
          "height": 71
        },
        "outputId": "ca5f47df-d69a-4ec6-a7fc-e52a81d1051b"
      },
      "source": [
        "# Create new arrays to hold encoded train and test reviews\n",
        "train_sequences = []\n",
        "test_sequences = []\n",
        "\n",
        "# Since we know train and test sets both have same # of reviews\n",
        "for i in range(len(train_texts)):\n",
        "  train_sequences.append(tokenizer.encode(train_texts[i]))\n",
        "  test_sequences.append(tokenizer.encode(test_texts[i]))\n",
        "\n",
        "# Check the reviews are appropriately replaced\n",
        "print(\"Example train sequence: \", train_sequences[0])\n",
        "print(\"Example test sequence: \", test_sequences[0])"
      ],
      "execution_count": null,
      "outputs": [
        {
          "output_type": "stream",
          "text": [
            "Example train sequence:  [69, 23, 46, 857, 1035, 3772, 507, 201, 21, 3, 730, 3779, 13, 43, 646, 269, 11, 52, 520, 1163, 61, 1416, 2498, 54, 1137, 522, 1607, 1364, 1186, 3, 3595, 80, 37, 112, 3772, 157, 3855, 2, 31, 18, 453, 408, 16, 43, 96, 3772, 530, 3772, 664, 11, 766, 296, 3, 945, 96, 3772, 112, 3772, 170, 35, 114, 3772, 42, 2910, 1098, 18, 21, 3779, 5, 1442, 1330, 3772, 81, 978, 3, 69, 21, 3772, 9, 46, 972, 3772, 347, 1538, 551, 1494, 3772, 2531, 1074, 228, 4, 728, 3, 24, 131, 3483, 422, 98, 5, 106, 262, 3772, 88, 1, 1192, 626, 3185, 38, 158, 1880, 5, 106, 447, 35, 96, 3772, 2199, 5, 29, 3058, 2807, 3855, 3, 1750, 4, 1045, 707, 2003, 677, 1364, 178, 377, 269, 3162, 3861, 2, 6, 61, 3348, 1380, 3851, 3785, 227, 1361, 2554, 27, 1416, 2498, 23, 311, 34, 31, 4, 3483, 422, 859, 1484, 2572, 35, 11, 4, 21, 3772, 15, 23, 3670, 3474, 3772, 7, 147, 301, 2290, 137, 3, 12, 287, 608, 155, 33, 15, 79, 3772, 37, 21, 5, 57, 326, 2, 3243, 28, 157, 3779, 5, 57, 520, 1163, 61, 1416, 353, 3850, 3779, 5, 89, 1640, 3, 12, 114, 3772, 2835, 44, 2643, 180, 240, 48, 3786]\n",
            "Example test sequence:  [175, 3772, 37, 153, 3772, 15, 144, 1464, 308, 3, 696, 1625, 14, 3021, 2192, 2, 19, 23, 3818, 3813, 3811, 3812, 1109, 3819, 2507, 1053, 3816, 3813, 3826, 2908, 3772, 2624, 3805, 3808, 169, 29, 1128, 1202, 3772, 3673, 2, 3807, 1269, 3822, 3815, 3823, 169, 29, 1379, 13, 475, 1375, 952, 3862, 2, 3809, 3520, 2035, 3013, 3805, 3204, 3813, 3, 2105, 17, 8, 15, 3532, 1458, 3374, 2176, 353, 3848, 3779, 5, 857, 1035, 3772, 1143, 34, 3808, 2908, 3785, 3805, 3785, 3816, 2908, 3785, 1269, 3823, 3823, 3, 1344, 2110, 256, 74, 3785, 447, 3843, 2, 6, 25, 2946, 269, 6, 25, 2645, 718, 97, 25, 147, 7, 1, 2194, 2116, 883, 1868, 21, 3855, 3, 12, 2169, 3779, 13, 328, 33, 18, 633, 483, 3772, 12, 456, 1053, 3810, 3825, 3816, 3520, 3209, 3818, 3824, 3829, 1208, 1632, 2, 99, 2293, 2, 12, 127, 3779, 13, 119, 3772, 12, 328, 33, 329, 3772, 18, 2216, 327, 682, 8, 1460, 2020, 2176, 353, 3848, 3779, 5, 827, 13, 9, 647, 662, 785, 125, 3808, 2908, 3785, 3805, 3785, 3816, 2908, 3785, 1269, 3823, 708, 9, 64, 691, 355, 1083, 7, 2893, 201, 489, 324, 830, 15, 49, 76, 3772, 40, 8, 2643, 431, 27, 4, 2906, 3772, 7, 18, 362, 13, 6, 140, 4, 978, 3785, 1871, 3785, 679, 528, 2789, 813, 38, 7, 19, 8, 1037, 3772, 1845, 2386, 3772, 216, 2, 3857, 3844, 2, 2477, 552, 348, 6, 1217, 3840, 348, 7, 48, 3, 1370, 3772, 979, 9, 419, 1848, 44, 2200, 1155, 3840, 36, 4, 826, 3772, 1709, 3772, 7, 4, 2608, 3785, 1307, 33, 123, 426, 188, 6, 1, 202, 241, 62, 58, 338, 17, 37, 3437, 36, 79, 3779, 5, 2593, 7, 1, 437, 3785, 216, 3785, 1173, 98, 200, 645, 2046, 49, 436, 3779, 84, 439, 159, 56, 4, 41, 57, 326, 204, 3808, 2908, 3785, 3805, 3785, 3816, 2908, 3785, 1269, 3823, 708, 9, 4, 41, 1678, 3772, 129, 67, 824, 3841, 3786]\n"
          ],
          "name": "stdout"
        }
      ]
    },
    {
      "cell_type": "markdown",
      "metadata": {
        "id": "ktd2FEzzTdtR"
      },
      "source": [
        "Neural networks require a fixed input size, therefore we need to truncate and/or pad our sequences so they all are the same length."
      ]
    },
    {
      "cell_type": "code",
      "metadata": {
        "id": "6p9T-mG3RXQM"
      },
      "source": [
        "from tensorflow.keras.preprocessing.text import Tokenizer\n",
        "from tensorflow.keras.preprocessing.sequence import pad_sequences\n",
        "\n",
        "# First we will set the initial value for some hyperparameters\n",
        "# You can play around these values to look for optimization\n",
        "max_length = 50\n",
        "trunc_type='post'\n",
        "pad_type='post'\n",
        "\n",
        "# Pad/Truncate sequences from the training data\n",
        "padded_train = pad_sequences(train_sequences, maxlen=max_length, \n",
        "                                truncating=trunc_type, padding=pad_type)\n",
        "\n",
        "# Do the same with the test data\n",
        "padded_test = pad_sequences(test_sequences, maxlen=max_length, \n",
        "                                truncating=trunc_type, padding=pad_type)\n",
        "\n",
        "# Right now our labels for both train and test data are arrays of tensors, \n",
        "# let's make them be numpy arrays for use in the model\n",
        "final_train_labels = np.array(train_labels)\n",
        "final_test_labels = np.array(test_labels)"
      ],
      "execution_count": null,
      "outputs": []
    },
    {
      "cell_type": "markdown",
      "metadata": {
        "id": "xpUaL7npfgta"
      },
      "source": [
        "# Build Models"
      ]
    },
    {
      "cell_type": "markdown",
      "metadata": {
        "id": "fZr_fYZxbkv0"
      },
      "source": [
        "Now that we have our data tokenized and preprocessed in a format that is ready for the model, we will create two different models and compare their performance. First, we will build a function that is able to fit and display the results of the different models."
      ]
    },
    {
      "cell_type": "code",
      "metadata": {
        "id": "wWQC0qdV-u6k"
      },
      "source": [
        "def plot_graphs(history, string):\n",
        "  plt.plot(history.history[string])\n",
        "  plt.plot(history.history['val_'+string])\n",
        "  plt.xlabel(\"Epochs\")\n",
        "  plt.ylabel(string)\n",
        "  plt.legend([string, 'val_'+string])\n",
        "  plt.show()"
      ],
      "execution_count": null,
      "outputs": []
    },
    {
      "cell_type": "code",
      "metadata": {
        "id": "obU1Mxooj-k_"
      },
      "source": [
        "def fit_model_and_show_results (model, learning_rate):\n",
        "  lr = learning_rate\n",
        "  model.compile(loss=tf.keras.losses.BinaryCrossentropy(from_logits=True),\n",
        "                  optimizer=tf.keras.optimizers.Adam(lr), \n",
        "                  metrics=['accuracy'])\n",
        "  \n",
        "  model.summary()\n",
        "  history = model.fit(padded_train, final_train_labels, epochs=num_epochs, \n",
        "                      validation_data=(padded_test, final_test_labels))\n",
        "  \n",
        "  # Plot the results of accuracy and loss\n",
        "  plot_graphs(history, \"accuracy\")\n",
        "  plot_graphs(history, \"loss\")"
      ],
      "execution_count": null,
      "outputs": []
    },
    {
      "cell_type": "markdown",
      "metadata": {
        "id": "RS31cAZAkO2g"
      },
      "source": [
        "The first model we'll try has a CNN layer followed by a couple dense layers."
      ]
    },
    {
      "cell_type": "code",
      "metadata": {
        "id": "-xl7TUb5bxu6"
      },
      "source": [
        "num_epochs = 20 # INSTEAD OF 30\n",
        "embedding_dim = 16\n",
        "\n",
        "cnn_model = tf.keras.Sequential([\n",
        "            tf.keras.layers.Embedding(vocab_size, embedding_dim, input_length=max_length),\n",
        "            tf.keras.layers.Conv1D(128, 5, activation='relu'),\n",
        "            tf.keras.layers.GlobalAveragePooling1D(),\n",
        "            tf.keras.layers.Dense(64, activation='relu'),\n",
        "            tf.keras.layers.Dense(1, activation='sigmoid')\n",
        "])"
      ],
      "execution_count": null,
      "outputs": []
    },
    {
      "cell_type": "code",
      "metadata": {
        "id": "Kvi1-Jl1bxs0",
        "colab": {
          "base_uri": "https://localhost:8080/",
          "height": 1000
        },
        "outputId": "6fbe4a9e-05ed-40d7-9c68-e5fe369d8791"
      },
      "source": [
        "# Default learning rate for the Adam optimizer is 0.001\n",
        "# We'll slow down the learning rate by 10.\n",
        "learning_rate = 0.0001\n",
        "fit_model_and_show_results(cnn_model, learning_rate)"
      ],
      "execution_count": null,
      "outputs": [
        {
          "output_type": "stream",
          "text": [
            "Model: \"sequential\"\n",
            "_________________________________________________________________\n",
            "Layer (type)                 Output Shape              Param #   \n",
            "=================================================================\n",
            "embedding (Embedding)        (None, 50, 16)            64000     \n",
            "_________________________________________________________________\n",
            "conv1d (Conv1D)              (None, 46, 128)           10368     \n",
            "_________________________________________________________________\n",
            "global_average_pooling1d (Gl (None, 128)               0         \n",
            "_________________________________________________________________\n",
            "dense (Dense)                (None, 64)                8256      \n",
            "_________________________________________________________________\n",
            "dense_1 (Dense)              (None, 1)                 65        \n",
            "=================================================================\n",
            "Total params: 82,689\n",
            "Trainable params: 82,689\n",
            "Non-trainable params: 0\n",
            "_________________________________________________________________\n",
            "Epoch 1/20\n",
            "782/782 [==============================] - 5s 6ms/step - loss: 0.7015 - accuracy: 0.5000 - val_loss: 0.6900 - val_accuracy: 0.5000\n",
            "Epoch 2/20\n",
            "782/782 [==============================] - 5s 6ms/step - loss: 0.6815 - accuracy: 0.5124 - val_loss: 0.6701 - val_accuracy: 0.5670\n",
            "Epoch 3/20\n",
            "782/782 [==============================] - 4s 6ms/step - loss: 0.6451 - accuracy: 0.6748 - val_loss: 0.6465 - val_accuracy: 0.6708\n",
            "Epoch 4/20\n",
            "782/782 [==============================] - 4s 6ms/step - loss: 0.6231 - accuracy: 0.7322 - val_loss: 0.6411 - val_accuracy: 0.6873\n",
            "Epoch 5/20\n",
            "782/782 [==============================] - 4s 6ms/step - loss: 0.6132 - accuracy: 0.7576 - val_loss: 0.6391 - val_accuracy: 0.6854\n",
            "Epoch 6/20\n",
            "782/782 [==============================] - 4s 6ms/step - loss: 0.6068 - accuracy: 0.7741 - val_loss: 0.6391 - val_accuracy: 0.6929\n",
            "Epoch 7/20\n",
            "782/782 [==============================] - 4s 6ms/step - loss: 0.6018 - accuracy: 0.7858 - val_loss: 0.6391 - val_accuracy: 0.6872\n",
            "Epoch 8/20\n",
            "782/782 [==============================] - 4s 6ms/step - loss: 0.5976 - accuracy: 0.7944 - val_loss: 0.6399 - val_accuracy: 0.6935\n",
            "Epoch 9/20\n",
            "782/782 [==============================] - 4s 6ms/step - loss: 0.5941 - accuracy: 0.8025 - val_loss: 0.6402 - val_accuracy: 0.6902\n",
            "Epoch 10/20\n",
            "782/782 [==============================] - 4s 6ms/step - loss: 0.5911 - accuracy: 0.8094 - val_loss: 0.6409 - val_accuracy: 0.6917\n",
            "Epoch 11/20\n",
            "782/782 [==============================] - 4s 6ms/step - loss: 0.5882 - accuracy: 0.8155 - val_loss: 0.6418 - val_accuracy: 0.6942\n",
            "Epoch 12/20\n",
            "782/782 [==============================] - 4s 6ms/step - loss: 0.5858 - accuracy: 0.8212 - val_loss: 0.6423 - val_accuracy: 0.6922\n",
            "Epoch 13/20\n",
            "782/782 [==============================] - 5s 6ms/step - loss: 0.5834 - accuracy: 0.8255 - val_loss: 0.6424 - val_accuracy: 0.6920\n",
            "Epoch 14/20\n",
            "782/782 [==============================] - 5s 6ms/step - loss: 0.5814 - accuracy: 0.8295 - val_loss: 0.6428 - val_accuracy: 0.6906\n",
            "Epoch 15/20\n",
            "782/782 [==============================] - 5s 6ms/step - loss: 0.5796 - accuracy: 0.8332 - val_loss: 0.6435 - val_accuracy: 0.6912\n",
            "Epoch 16/20\n",
            "782/782 [==============================] - 4s 6ms/step - loss: 0.5779 - accuracy: 0.8368 - val_loss: 0.6437 - val_accuracy: 0.6898\n",
            "Epoch 17/20\n",
            "782/782 [==============================] - 4s 6ms/step - loss: 0.5765 - accuracy: 0.8393 - val_loss: 0.6441 - val_accuracy: 0.6918\n",
            "Epoch 18/20\n",
            "782/782 [==============================] - 4s 5ms/step - loss: 0.5753 - accuracy: 0.8420 - val_loss: 0.6445 - val_accuracy: 0.6921\n",
            "Epoch 19/20\n",
            "782/782 [==============================] - 4s 5ms/step - loss: 0.5741 - accuracy: 0.8436 - val_loss: 0.6442 - val_accuracy: 0.6907\n",
            "Epoch 20/20\n",
            "782/782 [==============================] - 4s 6ms/step - loss: 0.5731 - accuracy: 0.8458 - val_loss: 0.6445 - val_accuracy: 0.6898\n"
          ],
          "name": "stdout"
        },
        {
          "output_type": "display_data",
          "data": {
            "image/png": "[encoded data removed]",
            "text/plain": [
              "<Figure size 432x288 with 1 Axes>"
            ]
          },
          "metadata": {
            "tags": [],
            "needs_background": "light"
          }
        },
        {
          "output_type": "display_data",
          "data": {
            "image/png": "[encoded data removed]",
            "text/plain": [
              "<Figure size 432x288 with 1 Axes>"
            ]
          },
          "metadata": {
            "tags": [],
            "needs_background": "light"
          }
        }
      ]
    },
    {
      "cell_type": "markdown",
      "metadata": {
        "id": "e3AWPi8akTIo"
      },
      "source": [
        "Because these reviews are rather long, next we will build a model that uses LSTM layers instead of conv layers."
      ]
    },
    {
      "cell_type": "code",
      "metadata": {
        "id": "L1Nj6EY1kSQ7",
        "colab": {
          "base_uri": "https://localhost:8080/",
          "height": 1000
        },
        "outputId": "41cb9ac1-750d-4dab-dec7-f2c7fe05af20"
      },
      "source": [
        "# Build new network utilizing two LSTM layers\n",
        "rnn_model = tf.keras.Sequential([\n",
        "            tf.keras.layers.Embedding(vocab_size, embedding_dim, input_length=max_length),\n",
        "            tf.keras.layers.Bidirectional(tf.keras.layers.LSTM(embedding_dim, \n",
        "                                                       return_sequences=True)),\n",
        "            tf.keras.layers.Bidirectional(tf.keras.layers.LSTM(embedding_dim)),\n",
        "            tf.keras.layers.Dense(64, activation='relu'),\n",
        "            tf.keras.layers.Dense(1, activation='sigmoid')\n",
        "])\n",
        "\n",
        "# Again, let's slow down the learning rate by 10.\n",
        "fit_model_and_show_results(rnn_model, 0.0003)"
      ],
      "execution_count": null,
      "outputs": [
        {
          "output_type": "stream",
          "text": [
            "Model: \"sequential_1\"\n",
            "_________________________________________________________________\n",
            "Layer (type)                 Output Shape              Param #   \n",
            "=================================================================\n",
            "embedding_1 (Embedding)      (None, 50, 16)            64000     \n",
            "_________________________________________________________________\n",
            "bidirectional (Bidirectional (None, 50, 32)            4224      \n",
            "_________________________________________________________________\n",
            "bidirectional_1 (Bidirection (None, 32)                6272      \n",
            "_________________________________________________________________\n",
            "dense_2 (Dense)              (None, 64)                2112      \n",
            "_________________________________________________________________\n",
            "dense_3 (Dense)              (None, 1)                 65        \n",
            "=================================================================\n",
            "Total params: 76,673\n",
            "Trainable params: 76,673\n",
            "Non-trainable params: 0\n",
            "_________________________________________________________________\n",
            "Epoch 1/20\n",
            "782/782 [==============================] - 16s 21ms/step - loss: 0.6779 - accuracy: 0.5664 - val_loss: 0.6462 - val_accuracy: 0.6751\n",
            "Epoch 2/20\n",
            "782/782 [==============================] - 15s 19ms/step - loss: 0.6263 - accuracy: 0.7206 - val_loss: 0.6400 - val_accuracy: 0.6826\n",
            "Epoch 3/20\n",
            "782/782 [==============================] - 15s 19ms/step - loss: 0.6130 - accuracy: 0.7518 - val_loss: 0.6407 - val_accuracy: 0.6791\n",
            "Epoch 4/20\n",
            "782/782 [==============================] - 15s 19ms/step - loss: 0.6076 - accuracy: 0.7641 - val_loss: 0.6421 - val_accuracy: 0.6981\n",
            "Epoch 5/20\n",
            "782/782 [==============================] - 15s 19ms/step - loss: 0.6030 - accuracy: 0.7769 - val_loss: 0.6420 - val_accuracy: 0.6979\n",
            "Epoch 6/20\n",
            "782/782 [==============================] - 15s 19ms/step - loss: 0.5997 - accuracy: 0.7830 - val_loss: 0.6413 - val_accuracy: 0.6851\n",
            "Epoch 7/20\n",
            "782/782 [==============================] - 15s 19ms/step - loss: 0.5999 - accuracy: 0.7820 - val_loss: 0.6445 - val_accuracy: 0.6950\n",
            "Epoch 8/20\n",
            "782/782 [==============================] - 15s 19ms/step - loss: 0.5956 - accuracy: 0.7936 - val_loss: 0.6442 - val_accuracy: 0.6988\n",
            "Epoch 9/20\n",
            "782/782 [==============================] - 15s 19ms/step - loss: 0.5944 - accuracy: 0.7989 - val_loss: 0.6472 - val_accuracy: 0.6964\n",
            "Epoch 10/20\n",
            "782/782 [==============================] - 15s 19ms/step - loss: 0.5958 - accuracy: 0.7907 - val_loss: 0.6426 - val_accuracy: 0.6936\n",
            "Epoch 11/20\n",
            "782/782 [==============================] - 15s 19ms/step - loss: 0.5930 - accuracy: 0.7989 - val_loss: 0.6453 - val_accuracy: 0.7015\n",
            "Epoch 12/20\n",
            "782/782 [==============================] - 15s 19ms/step - loss: 0.5965 - accuracy: 0.7870 - val_loss: 0.6428 - val_accuracy: 0.6910\n",
            "Epoch 13/20\n",
            "782/782 [==============================] - 15s 19ms/step - loss: 0.5902 - accuracy: 0.8048 - val_loss: 0.6456 - val_accuracy: 0.6985\n",
            "Epoch 14/20\n",
            "782/782 [==============================] - 15s 20ms/step - loss: 0.5884 - accuracy: 0.8092 - val_loss: 0.6423 - val_accuracy: 0.6974\n",
            "Epoch 15/20\n",
            "782/782 [==============================] - 15s 19ms/step - loss: 0.5890 - accuracy: 0.8078 - val_loss: 0.6424 - val_accuracy: 0.6968\n",
            "Epoch 16/20\n",
            "782/782 [==============================] - 15s 19ms/step - loss: 0.5873 - accuracy: 0.8107 - val_loss: 0.6427 - val_accuracy: 0.6951\n",
            "Epoch 17/20\n",
            "782/782 [==============================] - 15s 19ms/step - loss: 0.5880 - accuracy: 0.8099 - val_loss: 0.6462 - val_accuracy: 0.6956\n",
            "Epoch 18/20\n",
            "782/782 [==============================] - 15s 19ms/step - loss: 0.5869 - accuracy: 0.8134 - val_loss: 0.6457 - val_accuracy: 0.6930\n",
            "Epoch 19/20\n",
            "782/782 [==============================] - 14s 19ms/step - loss: 0.5865 - accuracy: 0.8141 - val_loss: 0.6456 - val_accuracy: 0.6956\n",
            "Epoch 20/20\n",
            "782/782 [==============================] - 15s 19ms/step - loss: 0.5845 - accuracy: 0.8176 - val_loss: 0.6445 - val_accuracy: 0.6946\n"
          ],
          "name": "stdout"
        },
        {
          "output_type": "display_data",
          "data": {
            "image/png": "[encoded data removed]",
            "text/plain": [
              "<Figure size 432x288 with 1 Axes>"
            ]
          },
          "metadata": {
            "tags": [],
            "needs_background": "light"
          }
        },
        {
          "output_type": "display_data",
          "data": {
            "image/png": "[encoded data removed]",
            "text/plain": [
              "<Figure size 432x288 with 1 Axes>"
            ]
          },
          "metadata": {
            "tags": [],
            "needs_background": "light"
          }
        }
      ]
    },
    {
      "cell_type": "code",
      "metadata": {
        "id": "LFxNkH4ZbxqK"
      },
      "source": [
        "# WE COULD OPTIMIZE THE LEARNING RATE!!!!!!!!!!!!!!!!!!!!!!!!!!!!!!!!!!!!\n",
        "\n",
        "# Default learning rate for the Adam optimizer is 0.001\n",
        "# Let's slow down the learning rate by 10.\n",
        "## learning_rate = 0.0001\n",
        "## model_cnn.compile(loss='binary_crossentropy',\n",
        "##                   optimizer=tf.keras.optimizers.Adam(learning_rate), \n",
        "##                   metrics=['accuracy'])\n",
        "\n",
        "## fit_model_and_show_results(cnn_model)"
      ],
      "execution_count": null,
      "outputs": []
    },
    {
      "cell_type": "markdown",
      "metadata": {
        "id": "nPIdMui0tXU0"
      },
      "source": [
        "# Evaluate using our own data"
      ]
    },
    {
      "cell_type": "markdown",
      "metadata": {
        "id": "iPBNxAFytbxs"
      },
      "source": [
        "Now that we have seen the accuracy and loss graphs for both models, let's take some random movie reviews from [rotten tomatoes](https://www.rottentomatoes.com/browse/in-theaters/) and see how well our models classsify them."
      ]
    },
    {
      "cell_type": "code",
      "metadata": {
        "id": "2IfLtdQdbxD2"
      },
      "source": [
        "random_reviews = [\"Here's one of the loveliest adventures of the year, a movie about a stubborn, indomitable character who robs people because that's what he knows best.\",\n",
        "                \"A flabby hunk of meat that the director, Matt Eskandari, hasn't bothered to season.\",\n",
        "                \"A seamlessly crafted thriller with exemplary performances all round.\",\n",
        "                \"It was a waste of my time, I honestly wish I had never gone to watch this movie.\",\n",
        "                \"The Man from Nowhere supplies more than enough drama and bloody-good action to make for a compelling film but what really drives it home is its riveting direction. The film is able to display the emotional, vivacious and authentic storytelling that is a clear developing sign of Korean cinema. 4/5\",\n",
        "                \"What you will be getting when you walk into an inevitably overstuffed movie theater is something singular that reflects our age in a way that none of the MCU films that preceded it have-indeed, very few Hollywood spectacles ever have.\",\n",
        "                \"I loved this movie\",\n",
        "                \"that was the worst movie I've ever seen\",\n",
        "                \"too much violence even for a Bond film\",\n",
        "                \"a captivating recounting of a cherished myth\"\n",
        "\n",
        "]"
      ],
      "execution_count": null,
      "outputs": []
    },
    {
      "cell_type": "markdown",
      "metadata": {
        "id": "VhLnSIfn3Kpt"
      },
      "source": [
        "We will create a function to predict sentiment in order to save some time."
      ]
    },
    {
      "cell_type": "code",
      "metadata": {
        "id": "LRR07vwl3Ppr"
      },
      "source": [
        "def pred_reviews(model, new_reviews, maxlen=max_length, show_padded_sequence=True):\n",
        "  # Create an array to hold the encoded sequences\n",
        "  sequences = []\n",
        "\n",
        "  # Convert the new reviews to sequences\n",
        "  for i in range(len(new_reviews)):\n",
        "    sequences.append(tokenizer.encode(new_reviews[i]))\n",
        "\n",
        "  trunc_type='post'\n",
        "  pad_type='post'\n",
        "\n",
        "  # Add padding/truncate all the new sequences\n",
        "  sequences_padded = pad_sequences(sequences, maxlen=max_length, \n",
        "                                truncating=trunc_type, padding=pad_type)             \n",
        "\n",
        "  predictions = model.predict(sequences_padded)\n",
        "\n",
        "  # The closer the class is to 1, the more positive the review is\n",
        "  for x in range(len(new_reviews)):\n",
        "    \n",
        "    # We can see the padded sequence if desired\n",
        "    # Print the sequence\n",
        "    if (show_padded_sequence):\n",
        "      print(sequences_padded[x])\n",
        "    # Print the review as text\n",
        "    print(new_reviews[x])\n",
        "    # Print its predicted class\n",
        "    print(\"Prediction: \", predictions[x])\n",
        "    print(\"\\n\")"
      ],
      "execution_count": null,
      "outputs": []
    },
    {
      "cell_type": "markdown",
      "metadata": {
        "id": "CwEStHVd6dAY"
      },
      "source": [
        "Now let's see how our models do with our new random reviews."
      ]
    },
    {
      "cell_type": "code",
      "metadata": {
        "id": "JNKtWeU26h9h",
        "colab": {
          "base_uri": "https://localhost:8080/",
          "height": 717
        },
        "outputId": "738bceb4-9c09-4aba-faad-c3c61b28b38a"
      },
      "source": [
        "# First the CNN model\n",
        "print(\"Reviews and Predictions from CNN Model\")\n",
        "print(\"\\n\")\n",
        "pred_reviews(cnn_model, random_reviews, maxlen=max_length, show_padded_sequence=False)"
      ],
      "execution_count": null,
      "outputs": [
        {
          "output_type": "stream",
          "text": [
            "Here's one of the loveliest adventures of the year, a movie about a stubborn, indomitable character who robs people because that's what he knows best.\n",
            "Prediction:  [9.594547e-05]\n",
            "\n",
            "\n",
            "A flabby hunk of meat that the director, Matt Eskandari, hasn't bothered to season.\n",
            "Prediction:  [1.4126512e-08]\n",
            "\n",
            "\n",
            "A seamlessly crafted thriller with exemplary performances all round.\n",
            "Prediction:  [0.00112438]\n",
            "\n",
            "\n",
            "It was a waste of my time, I honestly wish I had never gone to watch this movie.\n",
            "Prediction:  [4.854391e-11]\n",
            "\n",
            "\n",
            "The Man from Nowhere supplies more than enough drama and bloody-good action to make for a compelling film but what really drives it home is its riveting direction. The film is able to display the emotional, vivacious and authentic storytelling that is a clear developing sign of Korean cinema. 4/5\n",
            "Prediction:  [0.999979]\n",
            "\n",
            "\n",
            "What you will be getting when you walk into an inevitably overstuffed movie theater is something singular that reflects our age in a way that none of the MCU films that preceded it have-indeed, very few Hollywood spectacles ever have.\n",
            "Prediction:  [0.10061575]\n",
            "\n",
            "\n",
            "I loved this movie\n",
            "Prediction:  [5.6560225e-12]\n",
            "\n",
            "\n",
            "that was the worst movie I've ever seen\n",
            "Prediction:  [1.0425983e-18]\n",
            "\n",
            "\n",
            "too much violence even for a Bond film\n",
            "Prediction:  [4.985685e-12]\n",
            "\n",
            "\n",
            "a captivating recounting of a cherished myth\n",
            "Prediction:  [1.1234819e-14]\n",
            "\n",
            "\n"
          ],
          "name": "stdout"
        }
      ]
    },
    {
      "cell_type": "code",
      "metadata": {
        "id": "2z5fzzpx63aj",
        "colab": {
          "base_uri": "https://localhost:8080/",
          "height": 717
        },
        "outputId": "886f35d2-742b-454a-d906-386b67e02498"
      },
      "source": [
        "# Now the LSTM model\n",
        "print(\"Reviews and Predictions from LSTM Model\")\n",
        "print(\"\\n\")\n",
        "pred_reviews(rnn_model, random_reviews, maxlen=max_length, show_padded_sequence=False)"
      ],
      "execution_count": null,
      "outputs": [
        {
          "output_type": "stream",
          "text": [
            "Here's one of the loveliest adventures of the year, a movie about a stubborn, indomitable character who robs people because that's what he knows best.\n",
            "Prediction:  [3.0805226e-05]\n",
            "\n",
            "\n",
            "A flabby hunk of meat that the director, Matt Eskandari, hasn't bothered to season.\n",
            "Prediction:  [0.00014628]\n",
            "\n",
            "\n",
            "A seamlessly crafted thriller with exemplary performances all round.\n",
            "Prediction:  [0.27244836]\n",
            "\n",
            "\n",
            "It was a waste of my time, I honestly wish I had never gone to watch this movie.\n",
            "Prediction:  [9.189518e-06]\n",
            "\n",
            "\n",
            "The Man from Nowhere supplies more than enough drama and bloody-good action to make for a compelling film but what really drives it home is its riveting direction. The film is able to display the emotional, vivacious and authentic storytelling that is a clear developing sign of Korean cinema. 4/5\n",
            "Prediction:  [0.9999902]\n",
            "\n",
            "\n",
            "What you will be getting when you walk into an inevitably overstuffed movie theater is something singular that reflects our age in a way that none of the MCU films that preceded it have-indeed, very few Hollywood spectacles ever have.\n",
            "Prediction:  [0.00068872]\n",
            "\n",
            "\n",
            "I loved this movie\n",
            "Prediction:  [0.09452481]\n",
            "\n",
            "\n",
            "that was the worst movie I've ever seen\n",
            "Prediction:  [3.61012e-06]\n",
            "\n",
            "\n",
            "too much violence even for a Bond film\n",
            "Prediction:  [0.00040679]\n",
            "\n",
            "\n",
            "a captivating recounting of a cherished myth\n",
            "Prediction:  [0.00143278]\n",
            "\n",
            "\n"
          ],
          "name": "stdout"
        }
      ]
    },
    {
      "cell_type": "code",
      "metadata": {
        "id": "INBjLOrRDh0M"
      },
      "source": [
        ""
      ],
      "execution_count": null,
      "outputs": []
    }
  ]
}